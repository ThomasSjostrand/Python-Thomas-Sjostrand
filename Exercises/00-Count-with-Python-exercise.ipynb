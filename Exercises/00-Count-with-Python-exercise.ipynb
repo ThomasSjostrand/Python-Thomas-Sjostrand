{
 "cells": [
  {
   "cell_type": "markdown",
   "metadata": {},
   "source": [
    "# 1. Pythagorean theorem"
   ]
  },
  {
   "cell_type": "code",
   "execution_count": 5,
   "metadata": {},
   "outputs": [
    {
     "name": "stdout",
     "output_type": "stream",
     "text": [
      "Triangeln sidor är 3 och 4 långa. Hypotenusan är 5.0\n"
     ]
    }
   ],
   "source": [
    "import math\n",
    "\n",
    "kateter1 = 3\n",
    "kateter2 = 4\n",
    "hypotenusa = math.sqrt(kateter1**2 + kateter2**2)\n",
    "print(f\"Triangeln sidor är {kateter1} och {kateter2} långa. Hypotenusan är {hypotenusa}\")"
   ]
  },
  {
   "cell_type": "code",
   "execution_count": 11,
   "metadata": {},
   "outputs": [
    {
     "name": "stdout",
     "output_type": "stream",
     "text": [
      "Triangelns hypotenusa är 7 och den ena katetern är 5. Den andra katetern är 4.90.\n"
     ]
    }
   ],
   "source": [
    "hypotenusa = 7\n",
    "kateter1 = 5\n",
    "kateter2 = math.sqrt(hypotenusa**2-kateter1**2)\n",
    "print(f\"Triangelns hypotenusa är {hypotenusa} och den ena katetern är {kateter1}. Den andra katetern är {kateter2:.2f}.\")"
   ]
  },
  {
   "cell_type": "markdown",
   "metadata": {},
   "source": [
    "# 2. Classification accuracy"
   ]
  },
  {
   "cell_type": "code",
   "execution_count": 12,
   "metadata": {},
   "outputs": [
    {
     "name": "stdout",
     "output_type": "stream",
     "text": [
      "The algorithm got 300 correct out of 365 in total. The accuracy rating was 0.82.\n"
     ]
    }
   ],
   "source": [
    "predictions = 365\n",
    "correct_predictions = 300\n",
    "accuracy = correct_predictions / predictions\n",
    "print(f\"The algorithm got {correct_predictions} correct out of {predictions} in total. The accuracy rating was {accuracy:.2f}.\")"
   ]
  },
  {
   "cell_type": "markdown",
   "metadata": {},
   "source": [
    "# 3. Classification Accuracy"
   ]
  },
  {
   "cell_type": "code",
   "execution_count": 15,
   "metadata": {},
   "outputs": [
    {
     "name": "stdout",
     "output_type": "stream",
     "text": [
      "The accuracy is 0.987. The model is bad since out of 13 fires it only predicted 2.\n"
     ]
    }
   ],
   "source": [
    "TP = 2\n",
    "TN = 985\n",
    "FP = 2\n",
    "FN = 11\n",
    "accuracy = (TP+TN) / (TP+TN+FP+FN)\n",
    "print(f\"The accuracy is {accuracy}. The model is bad since out of 13 fires it only predicted 2.\")"
   ]
  },
  {
   "cell_type": "markdown",
   "metadata": {},
   "source": [
    "# 4. Line"
   ]
  },
  {
   "cell_type": "code",
   "execution_count": 20,
   "metadata": {},
   "outputs": [
    {
     "name": "stdout",
     "output_type": "stream",
     "text": [
      "The slope k is 0.75.\n",
      "The constant m is 1.0.\n"
     ]
    }
   ],
   "source": [
    "point_1 = [4,4]\n",
    "point_2 = [0,1]\n",
    "\n",
    "slope = (point_1[1] - point_2[1]) / (point_1[0] - point_2[0])\n",
    "print(f\"The slope k is {slope}.\")\n",
    "\n",
    "# Using the formula y = kx + m for point_1\n",
    "\n",
    "constant_m = point_1[1] - (slope * point_1[0])\n",
    "print(f\"The constant m is {constant_m}.\")"
   ]
  },
  {
   "cell_type": "markdown",
   "metadata": {},
   "source": [
    "# 5. Euclidean distance"
   ]
  },
  {
   "cell_type": "code",
   "execution_count": 26,
   "metadata": {},
   "outputs": [
    {
     "name": "stdout",
     "output_type": "stream",
     "text": [
      "The distance between P1 at [3, 5] and P2 at [-2, 4] is 5.10.\n"
     ]
    }
   ],
   "source": [
    "point_P1 = [3,5]\n",
    "point_P2 = [-2,4]\n",
    "\n",
    "distance = math.sqrt((point_P1[0] - point_P2[0])**2 + (point_P1[1] - point_P2[1])**2)\n",
    "print(f\"The distance between P1 at {point_P1} and P2 at {point_P2} is {distance:.2f}.\")"
   ]
  },
  {
   "cell_type": "markdown",
   "metadata": {},
   "source": [
    "# 6. Euclidean distance in 3D"
   ]
  },
  {
   "cell_type": "code",
   "execution_count": 30,
   "metadata": {},
   "outputs": [
    {
     "name": "stdout",
     "output_type": "stream",
     "text": [
      "The distance between the points P1 at [2, 1, 4] and P2 at [3, 1, 0] is 4.12.\n"
     ]
    }
   ],
   "source": [
    "point_P = [2,1,4]\n",
    "point_Q = [3,1,0]\n",
    "\n",
    "distance_2 = math.sqrt((point_P[0] - point_Q[0])**2 + (point_P[1] - point_Q[1])**2 + (point_P[2] - point_Q[2])**2)\n",
    "\n",
    "print(f\"The distance between the points P1 at {point_P} and P2 at {point_Q} is {distance_2:.2f}.\")"
   ]
  }
 ],
 "metadata": {
  "kernelspec": {
   "display_name": "Python 3.9.13 ('Python-Thomas-Sjostrand-OL2KPN-d')",
   "language": "python",
   "name": "python3"
  },
  "language_info": {
   "codemirror_mode": {
    "name": "ipython",
    "version": 3
   },
   "file_extension": ".py",
   "mimetype": "text/x-python",
   "name": "python",
   "nbconvert_exporter": "python",
   "pygments_lexer": "ipython3",
   "version": "3.9.13"
  },
  "orig_nbformat": 4,
  "vscode": {
   "interpreter": {
    "hash": "224dd18f17edd8cc6836a1d8f63410afaf4159a79ee134f574d033aecb058169"
   }
  }
 },
 "nbformat": 4,
 "nbformat_minor": 2
}
