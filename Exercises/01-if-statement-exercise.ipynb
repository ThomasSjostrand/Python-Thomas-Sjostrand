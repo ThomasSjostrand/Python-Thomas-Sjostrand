{
 "cells": [
  {
   "cell_type": "markdown",
   "metadata": {},
   "source": [
    "# If statement exercises\n",
    "\n",
    "## 1. Check sign"
   ]
  },
  {
   "cell_type": "code",
   "execution_count": 12,
   "metadata": {},
   "outputs": [
    {
     "name": "stdout",
     "output_type": "stream",
     "text": [
      "The number -4 is negative.\n"
     ]
    }
   ],
   "source": [
    "number = int(input(\"Input a number\"))\n",
    "if number < 0:\n",
    "    print(f\"The number {number} is negative.\")\n",
    "else:\n",
    "    if number == 0:\n",
    "        print(f\"The number {number} is zero.\")\n",
    "    else:\n",
    "        if number > 0:\n",
    "         print(f\"The number {number} is positive.\")"
   ]
  },
  {
   "cell_type": "markdown",
   "metadata": {},
   "source": [
    "## 2. Smallest"
   ]
  },
  {
   "cell_type": "code",
   "execution_count": 14,
   "metadata": {},
   "outputs": [
    {
     "name": "stdout",
     "output_type": "stream",
     "text": [
      "The first number is 16 and the second number is -54. The smallest number of those are -54\n"
     ]
    }
   ],
   "source": [
    "number_1 = int(input(\"Input a number.\"))\n",
    "number_2 = int(input(\"Input another number.\"))\n",
    "\n",
    "smallest = number_1\n",
    "if number_2 < number_1:\n",
    "    smallest = number_2\n",
    "\n",
    "print(f\"The first number is {number_1} and the second number is {number_2}. The smallest number of those are {smallest}\")"
   ]
  },
  {
   "cell_type": "markdown",
   "metadata": {},
   "source": [
    "## 3. Right angle"
   ]
  },
  {
   "cell_type": "code",
   "execution_count": 17,
   "metadata": {},
   "outputs": [
    {
     "name": "stdout",
     "output_type": "stream",
     "text": [
      "That's not a triangle!\n"
     ]
    }
   ],
   "source": [
    "angle_1 = int(input(\"Input the first angle.\"))\n",
    "angle_2 = int(input(\"Input the second angle.\"))\n",
    "angle_3 = int(input(\"Input the third angle.\"))\n",
    "\n",
    "if angle_1 + angle_2 + angle_3 != 180:\n",
    "    print(f\"That's not a triangle!\")\n",
    "else:\n",
    "    print(f\"That's a legal triangle!\")\n",
    "    if angle_1 == 90: print(f\"The first angle is right.\")\n",
    "    if angle_2 == 90: print(f\"The second angle is right.\")\n",
    "    if angle_3 == 90: print(f\"The third angle is right.\")\n",
    "    "
   ]
  },
  {
   "cell_type": "markdown",
   "metadata": {},
   "source": [
    "## 4. Medicine"
   ]
  },
  {
   "cell_type": "code",
   "execution_count": 20,
   "metadata": {},
   "outputs": [
    {
     "name": "stdout",
     "output_type": "stream",
     "text": [
      "You are a child with a weight between 26 and 40 kg and should take 1/2-1 pill.\n"
     ]
    }
   ],
   "source": [
    "age = int(input(\"How old are you?\"))\n",
    "weight = int(input(\"How much do you weigh?\"))\n",
    "if age >= 18:\n",
    "    print(\"You are an adult and should take 1-2 pills.\")\n",
    "else:\n",
    "    if weight > 40 and age > 12:\n",
    "        print(\"You are an adolescent with a weight of over 40kg and should take 1-2 pills\")\n",
    "    else:\n",
    "        if 26 <= weight <= 40 and age <= 12:\n",
    "            print(\"You are a child with a weight between 26 and 40 kg and should take 1/2-1 pill.\")\n",
    "        else:\n",
    "            if 15 <= weight <= 25 and age <= 12:\n",
    "                print(f\"You are a child and should take 1/2 pill.\")\n",
    "            else:\n",
    "                print(f\"I do not know how many pills you should take.\")"
   ]
  },
  {
   "cell_type": "markdown",
   "metadata": {},
   "source": [
    "## 5. Divisible"
   ]
  },
  {
   "cell_type": "code",
   "execution_count": 23,
   "metadata": {},
   "outputs": [
    {
     "name": "stdout",
     "output_type": "stream",
     "text": [
      "The number is even.\n",
      "The number is divisible by 5.\n"
     ]
    }
   ],
   "source": [
    "number = int(input(\"Input a number!\"))\n",
    "\n",
    "if number % 2 == 0: print(\"The number is even.\")\n",
    "if number % 2 == 1: print(\"The number is odd.\")\n",
    "\n",
    "if number % 5 == 0: print(\"The number is divisible by 5.\")\n",
    "\n",
    "if number % 5 == 0 and number % 2 == 1: print(\"The number is divisible by 5 and is odd.\")"
   ]
  },
  {
   "cell_type": "markdown",
   "metadata": {},
   "source": [
    "## 6. Luggage size"
   ]
  },
  {
   "cell_type": "code",
   "execution_count": 26,
   "metadata": {},
   "outputs": [
    {
     "name": "stdout",
     "output_type": "stream",
     "text": [
      "Your luggage is not allowed.\n"
     ]
    }
   ],
   "source": [
    "weight = int(input(\"Input weight\"))\n",
    "length = int(input(\"Input length\"))\n",
    "width = int(input(\"Input width\"))\n",
    "height = int(input(\"Input height\"))\n",
    "\n",
    "if weight <= 8 and length <= 55 and width <= 40 and height <= 23:\n",
    "    print(\"Your luggage is allowed.\")\n",
    "else:\n",
    "    print(\"Your luggage is not allowed.\")"
   ]
  }
 ],
 "metadata": {
  "kernelspec": {
   "display_name": "Python 3.9.13 ('Python-Thomas-Sjostrand-OL2KPN-d')",
   "language": "python",
   "name": "python3"
  },
  "language_info": {
   "codemirror_mode": {
    "name": "ipython",
    "version": 3
   },
   "file_extension": ".py",
   "mimetype": "text/x-python",
   "name": "python",
   "nbconvert_exporter": "python",
   "pygments_lexer": "ipython3",
   "version": "3.9.13"
  },
  "orig_nbformat": 4,
  "vscode": {
   "interpreter": {
    "hash": "224dd18f17edd8cc6836a1d8f63410afaf4159a79ee134f574d033aecb058169"
   }
  }
 },
 "nbformat": 4,
 "nbformat_minor": 2
}
