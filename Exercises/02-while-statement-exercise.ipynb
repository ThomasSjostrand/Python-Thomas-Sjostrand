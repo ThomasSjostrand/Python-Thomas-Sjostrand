{
 "cells": [
  {
   "cell_type": "markdown",
   "metadata": {},
   "source": [
    "# While statement exercise"
   ]
  },
  {
   "cell_type": "markdown",
   "metadata": {},
   "source": [
    "## 1 Count numbers"
   ]
  },
  {
   "cell_type": "code",
   "execution_count": 3,
   "metadata": {},
   "outputs": [
    {
     "name": "stdout",
     "output_type": "stream",
     "text": [
      "-10, -9, -8, -7, -6, -5, -4, -3, -2, -1, 0, 1, 2, 3, 4, 5, 6, 7, 8, 9, 10, "
     ]
    }
   ],
   "source": [
    "i = -10\n",
    "while -10 <= i <= 10:\n",
    "    print(f\"{i}, \", end = \"\")\n",
    "    i += 1\n"
   ]
  },
  {
   "cell_type": "markdown",
   "metadata": {},
   "source": [
    "## 2 Arithmetic "
   ]
  },
  {
   "cell_type": "code",
   "execution_count": 9,
   "metadata": {},
   "outputs": [
    {
     "name": "stdout",
     "output_type": "stream",
     "text": [
      "Summan av talen 1+2+...+99+100 är: 5050\n"
     ]
    }
   ],
   "source": [
    "# 2a\n",
    "i = 1\n",
    "sum = 0\n",
    "\n",
    "while i <= 100:\n",
    "    sum = sum + i\n",
    "    i += 1\n",
    "\n",
    "print(f\"Summan av talen 1+2+...+99+100 är {sum}\")"
   ]
  },
  {
   "cell_type": "code",
   "execution_count": 10,
   "metadata": {},
   "outputs": [
    {
     "name": "stdout",
     "output_type": "stream",
     "text": [
      "Summan av talen 1+3+5+...+97+99 är 2500\n"
     ]
    }
   ],
   "source": [
    "# 2b\n",
    "i = 1\n",
    "sum = 0\n",
    "\n",
    "while i <= 99:\n",
    "    sum = sum + i\n",
    "    i += 2\n",
    "\n",
    "print(f\"Summan av talen 1+3+5+...+97+99 är {sum}\")"
   ]
  },
  {
   "cell_type": "markdown",
   "metadata": {},
   "source": [
    "## 3 Guess number game"
   ]
  },
  {
   "cell_type": "code",
   "execution_count": 27,
   "metadata": {},
   "outputs": [
    {
     "name": "stdout",
     "output_type": "stream",
     "text": [
      "Your guess 50 is to high, guess again!\n",
      "1\n",
      "Your guess 66 is to high, guess again!\n",
      "2\n",
      "Your guess 33 is to high, guess again!\n",
      "3\n",
      "Your guess 20 is to high, guess again!\n",
      "4\n",
      "Your guess 10 is to low, guess again!\n",
      "5\n",
      "Your guess 155 is to high, guess again!\n",
      "6\n",
      "Your guess 15 is to low, guess again!\n",
      "7\n",
      "Your guess 15 is to low, guess again!\n",
      "8\n",
      "That's correct!\n",
      "9\n"
     ]
    },
    {
     "data": {
      "text/plain": [
       "18"
      ]
     },
     "execution_count": 27,
     "metadata": {},
     "output_type": "execute_result"
    }
   ],
   "source": [
    "# 3a\n",
    "import random as rnd\n",
    "guess = 101\n",
    "answer = rnd.randint(1,100)\n",
    "number_of_guesses = 0\n",
    "\n",
    "guess = int(input(f\"Guess a whole number 1-100\"))\n",
    "\n",
    "while int(guess) != answer:\n",
    "        \n",
    "    if int(guess) < answer:\n",
    "        print(f\"Your guess {guess} is to low, guess again!\")\n",
    "    \n",
    "    if int(guess) > answer:\n",
    "        print(f\"Your guess {guess} is to high, guess again!\")\n",
    "\n",
    "    number_of_guesses += 1\n",
    "    print(number_of_guesses)\n",
    "    guess = int(input(f\"Guess a whole number 1-100\"))\n",
    "    \n",
    "number_of_guesses += 1\n",
    "if (guess) == answer:\n",
    "    print(f\"That's correct!\")\n",
    "\n",
    "\n",
    "print(number_of_guesses)\n",
    "guess"
   ]
  },
  {
   "cell_type": "code",
   "execution_count": 14,
   "metadata": {},
   "outputs": [
    {
     "name": "stdout",
     "output_type": "stream",
     "text": [
      "Guess a number (1-100) Hint: answer is 100\n"
     ]
    },
    {
     "ename": "TypeError",
     "evalue": "mean() takes 1 positional argument but 2 were given",
     "output_type": "error",
     "traceback": [
      "\u001b[1;31m---------------------------------------------------------------------------\u001b[0m",
      "\u001b[1;31mTypeError\u001b[0m                                 Traceback (most recent call last)",
      "Cell \u001b[1;32mIn [14], line 17\u001b[0m\n\u001b[0;32m     13\u001b[0m number_of_guesses \u001b[38;5;241m+\u001b[39m\u001b[38;5;241m=\u001b[39m \u001b[38;5;241m1\u001b[39m\n\u001b[0;32m     15\u001b[0m \u001b[38;5;28;01mwhile\u001b[39;00m \u001b[38;5;28mint\u001b[39m(guess) \u001b[38;5;241m!=\u001b[39m answer:\n\u001b[1;32m---> 17\u001b[0m     guess \u001b[38;5;241m=\u001b[39m \u001b[43mmean\u001b[49m\u001b[43m(\u001b[49m\u001b[38;5;28;43mmin\u001b[39;49m\u001b[43m,\u001b[49m\u001b[43m \u001b[49m\u001b[38;5;28;43mmax\u001b[39;49m\u001b[43m)\u001b[49m\n\u001b[0;32m     19\u001b[0m     \u001b[38;5;28;01mif\u001b[39;00m \u001b[38;5;28mint\u001b[39m(guess) \u001b[38;5;241m<\u001b[39m answer:\n\u001b[0;32m     20\u001b[0m         \u001b[38;5;28mprint\u001b[39m(\u001b[38;5;124mf\u001b[39m\u001b[38;5;124m\"\u001b[39m\u001b[38;5;124mYour guess \u001b[39m\u001b[38;5;132;01m{\u001b[39;00mguess\u001b[38;5;132;01m}\u001b[39;00m\u001b[38;5;124m is to low, guess again! You have guessed \u001b[39m\u001b[38;5;132;01m{\u001b[39;00mnumber_of_guesses\u001b[38;5;132;01m}\u001b[39;00m\u001b[38;5;124m times\u001b[39m\u001b[38;5;124m\"\u001b[39m)\n",
      "\u001b[1;31mTypeError\u001b[0m: mean() takes 1 positional argument but 2 were given"
     ]
    }
   ],
   "source": [
    "# 3b\n",
    "import random as rnd\n",
    "from statistics import mean\n",
    "guess = 101\n",
    "answer = rnd.randint(1,100)\n",
    "number_of_guesses = 0\n",
    "guess = 0\n",
    "min = 1\n",
    "max = 100\n",
    "\n",
    "print(f\"Guess a number (1-100) Hint: answer is {answer}\")\n",
    "guess = rnd.randint(min, max)\n",
    "number_of_guesses += 1\n",
    "\n",
    "while int(guess) != answer:\n",
    "    \n",
    "    guess = round(min + max)\n",
    "\n",
    "    if int(guess) < answer:\n",
    "        print(f\"Your guess {guess} is to low, guess again! You have guessed {number_of_guesses} times\")\n",
    "        min = guess +1\n",
    "        number_of_guesses += 1\n",
    "        continue\n",
    "    \n",
    "    if int(guess) > answer:\n",
    "        print(f\"Your guess {guess} is to high, guess again! You have guessed {number_of_guesses} times\")\n",
    "        max = guess -1\n",
    "        number_of_guesses += 1\n",
    "        continue\n",
    "    \n",
    "print(f\"You guess {guess} is correct! You guessed {number_of_guesses} times\")"
   ]
  },
  {
   "cell_type": "code",
   "execution_count": 34,
   "metadata": {},
   "outputs": [
    {
     "name": "stdout",
     "output_type": "stream",
     "text": [
      "Guess a number (1-100) Hint: answer is \n"
     ]
    }
   ],
   "source": [
    "print(f\"Guess a number (1-100) Hint: answer is \")\n"
   ]
  }
 ],
 "metadata": {
  "kernelspec": {
   "display_name": "Python 3.9.13 ('Python-Thomas-Sjostrand-OL2KPN-d')",
   "language": "python",
   "name": "python3"
  },
  "language_info": {
   "codemirror_mode": {
    "name": "ipython",
    "version": 3
   },
   "file_extension": ".py",
   "mimetype": "text/x-python",
   "name": "python",
   "nbconvert_exporter": "python",
   "pygments_lexer": "ipython3",
   "version": "3.9.13"
  },
  "orig_nbformat": 4,
  "vscode": {
   "interpreter": {
    "hash": "224dd18f17edd8cc6836a1d8f63410afaf4159a79ee134f574d033aecb058169"
   }
  }
 },
 "nbformat": 4,
 "nbformat_minor": 2
}
