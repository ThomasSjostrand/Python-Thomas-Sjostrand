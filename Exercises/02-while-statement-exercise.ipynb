{
 "cells": [
  {
   "cell_type": "markdown",
   "metadata": {},
   "source": [
    "# While statement exercise"
   ]
  },
  {
   "cell_type": "markdown",
   "metadata": {},
   "source": [
    "## 1 Count numbers"
   ]
  },
  {
   "cell_type": "code",
   "execution_count": 3,
   "metadata": {},
   "outputs": [
    {
     "name": "stdout",
     "output_type": "stream",
     "text": [
      "-10, -9, -8, -7, -6, -5, -4, -3, -2, -1, 0, 1, 2, 3, 4, 5, 6, 7, 8, 9, 10, "
     ]
    }
   ],
   "source": [
    "i = -10\n",
    "while -10 <= i <= 10:\n",
    "    print(f\"{i}, \", end = \"\")\n",
    "    i += 1\n"
   ]
  },
  {
   "cell_type": "markdown",
   "metadata": {},
   "source": [
    "## 2 Arithmetic "
   ]
  },
  {
   "cell_type": "code",
   "execution_count": 9,
   "metadata": {},
   "outputs": [
    {
     "name": "stdout",
     "output_type": "stream",
     "text": [
      "Summan av talen 1+2+...+99+100 är: 5050\n"
     ]
    }
   ],
   "source": [
    "# 2a\n",
    "i = 1\n",
    "sum = 0\n",
    "\n",
    "while i <= 100:\n",
    "    sum = sum + i\n",
    "    i += 1\n",
    "\n",
    "print(f\"Summan av talen 1+2+...+99+100 är {sum}\")"
   ]
  },
  {
   "cell_type": "code",
   "execution_count": 10,
   "metadata": {},
   "outputs": [
    {
     "name": "stdout",
     "output_type": "stream",
     "text": [
      "Summan av talen 1+3+5+...+97+99 är 2500\n"
     ]
    }
   ],
   "source": [
    "# 2b\n",
    "i = 1\n",
    "sum = 0\n",
    "\n",
    "while i <= 99:\n",
    "    sum = sum + i\n",
    "    i += 2\n",
    "\n",
    "print(f\"Summan av talen 1+3+5+...+97+99 är {sum}\")"
   ]
  },
  {
   "cell_type": "markdown",
   "metadata": {},
   "source": [
    "## 3 Guess number game"
   ]
  },
  {
   "cell_type": "code",
   "execution_count": 27,
   "metadata": {},
   "outputs": [
    {
     "name": "stdout",
     "output_type": "stream",
     "text": [
      "Your guess 50 is to high, guess again!\n",
      "1\n",
      "Your guess 66 is to high, guess again!\n",
      "2\n",
      "Your guess 33 is to high, guess again!\n",
      "3\n",
      "Your guess 20 is to high, guess again!\n",
      "4\n",
      "Your guess 10 is to low, guess again!\n",
      "5\n",
      "Your guess 155 is to high, guess again!\n",
      "6\n",
      "Your guess 15 is to low, guess again!\n",
      "7\n",
      "Your guess 15 is to low, guess again!\n",
      "8\n",
      "That's correct!\n",
      "9\n"
     ]
    },
    {
     "data": {
      "text/plain": [
       "18"
      ]
     },
     "execution_count": 27,
     "metadata": {},
     "output_type": "execute_result"
    }
   ],
   "source": [
    "# 3a\n",
    "import random as rnd\n",
    "guess = 101\n",
    "answer = rnd.randint(1,100)\n",
    "number_of_guesses = 0\n",
    "\n",
    "guess = int(input(f\"Guess a whole number 1-100\"))\n",
    "\n",
    "while int(guess) != answer:\n",
    "        \n",
    "    if int(guess) < answer:\n",
    "        print(f\"Your guess {guess} is to low, guess again!\")\n",
    "    \n",
    "    if int(guess) > answer:\n",
    "        print(f\"Your guess {guess} is to high, guess again!\")\n",
    "\n",
    "    number_of_guesses += 1\n",
    "    print(number_of_guesses)\n",
    "    guess = int(input(f\"Guess a whole number 1-100\"))\n",
    "    \n",
    "number_of_guesses += 1\n",
    "if (guess) == answer:\n",
    "    print(f\"That's correct!\")\n",
    "\n",
    "\n",
    "print(number_of_guesses)\n",
    "guess"
   ]
  },
  {
   "cell_type": "code",
   "execution_count": 16,
   "metadata": {},
   "outputs": [
    {
     "name": "stdout",
     "output_type": "stream",
     "text": [
      "Guess a number (1-100) Hint: answer is 81\n",
      "Your guess 50 is to low, guess again! You have guessed 1 times\n",
      "Your guess 75 is to low, guess again! You have guessed 2 times\n",
      "Your guess 88 is to high, guess again! You have guessed 3 times\n",
      "You guess 81 is correct! You guessed 4 times\n"
     ]
    }
   ],
   "source": [
    "# 3b\n",
    "import random as rnd\n",
    "from statistics import mean\n",
    "guess = 101\n",
    "answer = rnd.randint(1,100)\n",
    "number_of_guesses = 0\n",
    "guess = 0\n",
    "min = 1\n",
    "max = 100\n",
    "\n",
    "print(f\"Guess a number (1-100) Hint: answer is {answer}\")\n",
    "guess = rnd.randint(min, max)\n",
    "number_of_guesses += 1\n",
    "\n",
    "while int(guess) != answer:\n",
    "    \n",
    "    guess = int((min + max)/2)\n",
    "\n",
    "    if int(guess) < answer:\n",
    "        print(f\"Your guess {guess} is to low, guess again! You have guessed {number_of_guesses} times\")\n",
    "        min = guess +1\n",
    "        number_of_guesses += 1\n",
    "        continue\n",
    "    \n",
    "    if int(guess) > answer:\n",
    "        print(f\"Your guess {guess} is to high, guess again! You have guessed {number_of_guesses} times\")\n",
    "        max = guess -1\n",
    "        number_of_guesses += 1\n",
    "        continue\n",
    "    \n",
    "print(f\"You guess {guess} is correct! You guessed {number_of_guesses} times\")"
   ]
  },
  {
   "cell_type": "markdown",
   "metadata": {},
   "source": [
    "## 4 Multiplication game"
   ]
  },
  {
   "cell_type": "code",
   "execution_count": 6,
   "metadata": {},
   "outputs": [
    {
     "name": "stdout",
     "output_type": "stream",
     "text": [
      "Correct answers: 2. Game over\n"
     ]
    }
   ],
   "source": [
    "import random\n",
    "\n",
    "corrects=0\n",
    "\n",
    "play_again = \"y\"\n",
    "\n",
    "while play_again == \"y\":\n",
    "    x = random.randint(1, 10)\n",
    "    y = random.randint(1, 10)\n",
    "    answer = int(input(f\"What is {x} * {y}\"))\n",
    "\n",
    "    if answer == x * y:\n",
    "        corrects += 1\n",
    "        play_again = input(f\"Correct! Do you want to play again? (y/n)\")\n",
    "        continue\n",
    "\n",
    "    if answer != x * y:\n",
    "        play_again = input(f\"Wrong! Do you want to play again? (y/n)\")\n",
    "        continue\n",
    "  \n",
    "    \n",
    "print(f\"Correct answers: {corrects}. Game over\")"
   ]
  },
  {
   "cell_type": "markdown",
   "metadata": {},
   "source": [
    "## 5 Check convergence"
   ]
  },
  {
   "cell_type": "code",
   "execution_count": 103,
   "metadata": {},
   "outputs": [
    {
     "name": "stdout",
     "output_type": "stream",
     "text": [
      "1.9999999990686774\n"
     ]
    }
   ],
   "source": [
    "# 5a\n",
    "\n",
    "sum = 0\n",
    "n = 30\n",
    "i = 0\n",
    "\n",
    "while i <= n:\n",
    "    sum = sum + 1/(2**i)\n",
    "    i += 1\n",
    "    if i == 0:\n",
    "        i = 1\n",
    "\n",
    "print(sum)"
   ]
  },
  {
   "cell_type": "code",
   "execution_count": 86,
   "metadata": {},
   "outputs": [
    {
     "name": "stdout",
     "output_type": "stream",
     "text": [
      "0.7855231009208814\n",
      "3.1420924036835256\n"
     ]
    }
   ],
   "source": [
    "# 5b\n",
    "sum = 1\n",
    "n = 2000\n",
    "i = 1\n",
    "\n",
    "while i <= n:\n",
    "    sum = sum + ((-1)**i)/(2*i+1)\n",
    "    i += 1\n",
    "\n",
    "print(sum)\n",
    "print(sum*4)"
   ]
  }
 ],
 "metadata": {
  "kernelspec": {
   "display_name": "Python 3.9.13 ('Python-Thomas-Sjostrand-OL2KPN-d')",
   "language": "python",
   "name": "python3"
  },
  "language_info": {
   "codemirror_mode": {
    "name": "ipython",
    "version": 3
   },
   "file_extension": ".py",
   "mimetype": "text/x-python",
   "name": "python",
   "nbconvert_exporter": "python",
   "pygments_lexer": "ipython3",
   "version": "3.9.13"
  },
  "orig_nbformat": 4,
  "vscode": {
   "interpreter": {
    "hash": "224dd18f17edd8cc6836a1d8f63410afaf4159a79ee134f574d033aecb058169"
   }
  }
 },
 "nbformat": 4,
 "nbformat_minor": 2
}
