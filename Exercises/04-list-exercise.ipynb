{
 "cells": [
  {
   "cell_type": "markdown",
   "metadata": {},
   "source": [
    "# List exercise"
   ]
  },
  {
   "cell_type": "markdown",
   "metadata": {},
   "source": [
    "## 1. Dice rolls"
   ]
  },
  {
   "cell_type": "code",
   "execution_count": null,
   "metadata": {},
   "outputs": [],
   "source": [
    "import random as rnd\n",
    "\n",
    "dice_list = []\n",
    "\n",
    "for i in range(10):\n",
    "    dice_list.append(rnd.randint(1,6))\n",
    "\n",
    "print(dice_list)"
   ]
  },
  {
   "cell_type": "code",
   "execution_count": null,
   "metadata": {},
   "outputs": [],
   "source": [
    "# 1a\n",
    "dice_list.sort()\n",
    "print(dice_list)"
   ]
  },
  {
   "cell_type": "code",
   "execution_count": null,
   "metadata": {},
   "outputs": [],
   "source": [
    "# 1b\n",
    "dice_list.sort(reverse=1)\n",
    "print(dice_list)"
   ]
  },
  {
   "cell_type": "code",
   "execution_count": null,
   "metadata": {},
   "outputs": [],
   "source": [
    "# 1c\n",
    "print(dice_list[9])\n",
    "print(dice_list[0])"
   ]
  },
  {
   "cell_type": "markdown",
   "metadata": {},
   "source": [
    "## 2. Food menu"
   ]
  },
  {
   "cell_type": "code",
   "execution_count": null,
   "metadata": {},
   "outputs": [],
   "source": [
    "# 2a\n",
    "foods = [\"vegetarisk lasagne\", \"spaghetti\", \"fisk\", \"grönsakssoppa\", \"pannkakor\"]\n",
    "foods"
   ]
  },
  {
   "cell_type": "code",
   "execution_count": null,
   "metadata": {},
   "outputs": [],
   "source": [
    "# 2b\n",
    "weekdays = [\"mon\", \"tue\", \"wed\", \"thu\", \"fri\"]\n",
    "weekdays"
   ]
  },
  {
   "cell_type": "code",
   "execution_count": null,
   "metadata": {},
   "outputs": [],
   "source": [
    "# 2c\n",
    "for i in range(5):\n",
    "    print(f\"{weekdays[i]} - {foods[i]}\")\n",
    "\n",
    "menu = []\n",
    "\n",
    "for i in range(5):\n",
    "    menu.append([weekdays[i], foods[i]])\n",
    "\n",
    "\n",
    "print(menu)"
   ]
  },
  {
   "cell_type": "markdown",
   "metadata": {},
   "source": [
    "## 3. Squares"
   ]
  },
  {
   "cell_type": "code",
   "execution_count": null,
   "metadata": {},
   "outputs": [],
   "source": [
    "# 3a\n",
    "squares = [i**2 for i in range(-10, 11)]\n",
    "squares"
   ]
  },
  {
   "cell_type": "code",
   "execution_count": null,
   "metadata": {},
   "outputs": [],
   "source": [
    "# 3b\n",
    "import matplotlib.pyplot as plt\n",
    "plt.plot(squares);"
   ]
  },
  {
   "cell_type": "markdown",
   "metadata": {},
   "source": [
    "## 4. Chessboard"
   ]
  },
  {
   "cell_type": "code",
   "execution_count": null,
   "metadata": {},
   "outputs": [],
   "source": [
    "list1 = \"ABCDEFGH\"\n"
   ]
  },
  {
   "cell_type": "code",
   "execution_count": null,
   "metadata": {},
   "outputs": [],
   "source": [
    "list1 = [\"A\", \"B\", \"C\", \"D\", \"E\", \"F\", \"G\", \"H\"]\n",
    "list2 = [\"1\",\"2\",\"3\",\"4\",\"5\",\"6\",\"7\",\"8\"]\n",
    "list3 = [list1,list2]\n",
    "list4 = \"\".join([list3[0][0], list3[1][1]])\n",
    "print(list3)\n",
    "print(list4)\n",
    "\n",
    "list5 = [letter for letter in list3[0] + [a for a in list3[1]]]\n",
    "\n",
    "print(list5)"
   ]
  },
  {
   "cell_type": "code",
   "execution_count": null,
   "metadata": {},
   "outputs": [],
   "source": [
    "lista = [\"a\", \"b\", \"c\"]\n",
    "pista = \" \".join([lista[0], \"hund\"])\n",
    "pista"
   ]
  },
  {
   "cell_type": "markdown",
   "metadata": {},
   "source": [
    "## 5. Dice rolls convergence"
   ]
  },
  {
   "cell_type": "code",
   "execution_count": null,
   "metadata": {},
   "outputs": [],
   "source": [
    "# 5a\n",
    "import random as rnd\n",
    "\n",
    "def dice():\n",
    "    return rnd.randint(1,6)\n",
    "\n",
    "rolls = [dice() for i in range(100)]\n",
    "print(rolls)\n",
    "rolls.count(6)"
   ]
  },
  {
   "cell_type": "code",
   "execution_count": 186,
   "metadata": {},
   "outputs": [
    {
     "name": "stdout",
     "output_type": "stream",
     "text": [
      "[[2], [19], [147], [1639], [16753], [166648]]\n",
      "[[0.2], [0.19], [0.147], [0.1639], [0.16753], [0.166648]]\n"
     ]
    },
    {
     "data": {
      "image/png": "[encoded data removed]",
      "text/plain": [
       "<Figure size 640x480 with 1 Axes>"
      ]
     },
     "metadata": {},
     "output_type": "display_data"
    }
   ],
   "source": [
    "# 5b\n",
    "import random as rnd\n",
    "import matplotlib.pyplot as plt\n",
    "def dice():\n",
    "    return rnd.randint(1,6)\n",
    "\n",
    "counter =[]\n",
    "prob = []\n",
    "\n",
    "for x in range(6):\n",
    "    rolls = [dice() for i in range(10**(x+1))]\n",
    "    counter.append([rolls.count(6)])\n",
    "    prob.append([rolls.count(6)/10**(x+1)])\n",
    "print(counter)\n",
    "print(prob)\n",
    "\n",
    "plt.plot(counter, prob);\n",
    "plt.xscale(\"log\")"
   ]
  },
  {
   "cell_type": "markdown",
   "metadata": {},
   "source": [
    "## 6. Monte Carlo simulation"
   ]
  },
  {
   "cell_type": "code",
   "execution_count": 240,
   "metadata": {},
   "outputs": [
    {
     "name": "stdout",
     "output_type": "stream",
     "text": [
      "<generator object <listcomp>.<genexpr> at 0x00000190DFBC2510>\n"
     ]
    }
   ],
   "source": [
    "import random as rnd\n",
    "\n",
    "points = [([rnd.random()], ([rnd.random()] for i in range(5000))) for j in range(5000)]\n",
    " \n",
    " #for i in range(5000)], ]\n",
    "\n",
    "print(points[232][1])"
   ]
  },
  {
   "cell_type": "code",
   "execution_count": 299,
   "metadata": {},
   "outputs": [
    {
     "name": "stdout",
     "output_type": "stream",
     "text": [
      "0.7253805283436583\n",
      "points4[3]=[0.19278191193064176, 0.6339914836442887]\n",
      "points4[4]=[0.19278191193064176, 0.6339914836442887]\n"
     ]
    }
   ],
   "source": [
    "import random as rnd\n",
    "points = rnd.random()\n",
    "print(points)\n",
    "\n",
    "points2 = [rnd.random() for i in range(10)]\n",
    "points2\n",
    "\n",
    "points3 = [rnd.random() for i in range(3)], [rnd.random() for i in range(3)]\n",
    "points3\n",
    "\n",
    "point = [rnd.random(), rnd.random()]\n",
    "point\n",
    "\n",
    "points4 = [point for i in range(5)]\n",
    "print(f\"{points4[3]=}\")\n",
    "print(f\"{points4[4]=}\")"
   ]
  },
  {
   "cell_type": "code",
   "execution_count": 362,
   "metadata": {},
   "outputs": [
    {
     "name": "stdout",
     "output_type": "stream",
     "text": [
      "points[3]=[0.9893741064893252, 0.7867262233443902]\n",
      "points[445]=[-0.5833734725982997, 0.5188569789114273]\n",
      "1\n"
     ]
    }
   ],
   "source": [
    "import random as rnd\n",
    "\n",
    "point = [rnd.random(), rnd.random()]\n",
    "point\n",
    "\n",
    "points = [[rnd.random()*(rnd.randint(0,1)*2-1), rnd.random()*(rnd.randint(0,1)*2-1)] for i in range(5000)]\n",
    "print(f\"{points[3]=}\")\n",
    "print(f\"{points[445]=}\")\n",
    "\n",
    "sign = (rnd.randint(0,1)*2-1)\n",
    "print(sign)"
   ]
  },
  {
   "cell_type": "code",
   "execution_count": 633,
   "metadata": {},
   "outputs": [
    {
     "name": "stdout",
     "output_type": "stream",
     "text": [
      "[1.1075582288381465, 0.6038210415652957, 0.7270628188829062, 0.8905303593955656, 1.0144875991365072, 0.3134782104193591, 0.8512920044515239, 0.5714565406090727, 0.9027610113736889, 0.7502187747550725]\n"
     ]
    },
    {
     "data": {
      "image/png": "[encoded data removed]",
      "text/plain": [
       "<Figure size 640x480 with 1 Axes>"
      ]
     },
     "metadata": {},
     "output_type": "display_data"
    }
   ],
   "source": [
    "import random as rnd\n",
    "import math\n",
    "import matplotlib.pyplot as plt\n",
    "\n",
    "def point():\n",
    "    x = rnd.random()*(rnd.randint(0,1)*2-1)\n",
    "    y = rnd.random()*(rnd.randint(0,1)*2-1)\n",
    "    return([x,y])\n",
    "\n",
    "# creating list of points\n",
    "points = [point() for i in range(10)]\n",
    "\n",
    "def distance(x,y):\n",
    "    dist = math.sqrt(x**2 + y**2)\n",
    "    return dist\n",
    "\n",
    "# creating list of distances\n",
    "distances = [distance(points[i][0], points[i][1]) for i in range(10)]\n",
    "\n",
    "print(distances)\n",
    "\n",
    "plt.plot(points[0], points[1]);\n",
    "\n",
    "# print(distance(points[0]))\n",
    "\n",
    "# distances = [points[i] for i in range(10)]\n",
    "# distances"
   ]
  },
  {
   "cell_type": "code",
   "execution_count": 676,
   "metadata": {},
   "outputs": [
    {
     "data": {
      "text/plain": [
       "0"
      ]
     },
     "execution_count": 676,
     "metadata": {},
     "output_type": "execute_result"
    }
   ],
   "source": [
    "# 6b\n",
    "import random as rnd\n",
    "import math\n",
    "\n",
    "\n",
    "def point():\n",
    "    x = rnd.random()*(rnd.randint(0,1)*2-1)\n",
    "    y = rnd.random()*(rnd.randint(0,1)*2-1)\n",
    "    return([x,y])\n",
    "\n",
    "# creating list of points\n",
    "points = [point() for i in range(10)]\n",
    "\n",
    "def distance(x,y):\n",
    "    dist = math.sqrt(x**2 + y**2)\n",
    "    return dist\n",
    "\n",
    "# creating list of distances\n",
    "distances = [distance(points[i][0], points[i][1]) for i in range(10)]\n",
    "\n",
    "# how to count values less than and more than x?\n",
    "distances.count(0.4)"
   ]
  }
 ],
 "metadata": {
  "kernelspec": {
   "display_name": "Python 3.9.13 ('Python-Thomas-Sjostrand-OL2KPN-d')",
   "language": "python",
   "name": "python3"
  },
  "language_info": {
   "codemirror_mode": {
    "name": "ipython",
    "version": 3
   },
   "file_extension": ".py",
   "mimetype": "text/x-python",
   "name": "python",
   "nbconvert_exporter": "python",
   "pygments_lexer": "ipython3",
   "version": "3.9.13"
  },
  "orig_nbformat": 4,
  "vscode": {
   "interpreter": {
    "hash": "224dd18f17edd8cc6836a1d8f63410afaf4159a79ee134f574d033aecb058169"
   }
  }
 },
 "nbformat": 4,
 "nbformat_minor": 2
}
