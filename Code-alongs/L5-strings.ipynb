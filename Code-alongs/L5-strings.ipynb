{
 "cells": [
  {
   "cell_type": "markdown",
   "metadata": {},
   "source": [
    "# Strings"
   ]
  },
  {
   "cell_type": "code",
   "execution_count": 7,
   "metadata": {},
   "outputs": [
    {
     "name": "stdout",
     "output_type": "stream",
     "text": [
      "Thomas Sjöstrand\n",
      "\n",
      "Name: Thomas Sjöstrand,\n",
      "Age: 40,\n",
      "Adress: Göteborg,\n",
      "Phone: 90000\n",
      "\n"
     ]
    }
   ],
   "source": [
    "firstname = \"Thomas\"\n",
    "lastname = \"Sjöstrand\"\n",
    "\n",
    "# concatenate strings\n",
    "\n",
    "name = firstname + \" \" + lastname\n",
    "age = 40\n",
    "adress = \"Göteborg\"\n",
    "phone = 90000\n",
    "\n",
    "print(name)\n",
    "\n",
    "# multiline f-string\n",
    "contact = f\"\"\"\n",
    "Name: {name},\n",
    "Age: {age},\n",
    "Adress: {adress},\n",
    "Phone: {phone}\n",
    "\"\"\"\n",
    "print(contact)"
   ]
  },
  {
   "cell_type": "markdown",
   "metadata": {},
   "source": [
    "## Iterate through lists and concatenates"
   ]
  },
  {
   "cell_type": "code",
   "execution_count": 20,
   "metadata": {},
   "outputs": [
    {
     "name": "stdout",
     "output_type": "stream",
     "text": [
      "Mån AI intro\n",
      "Tis Python\n",
      "Ons Matte\n",
      "Tor Självplugg\n",
      "Fre Chilla\n",
      "Plan \n",
      "Mån: AI intro\n",
      "Tis: Python\n",
      "Ons: Matte\n",
      "Tor: Självplugg\n",
      "Fre: Chilla\n",
      "\n"
     ]
    }
   ],
   "source": [
    "schedule = [\"AI intro\", \"Python\", \"Matte\", \"Självplugg\", \"Chilla\"]\n",
    "days = [\"Mån\", \"Tis\", \"Ons\", \"Tor\", \"Fre\"]\n",
    "\n",
    "week_plan = \"Plan \\n\"\n",
    "for i in range(5):\n",
    "    print(f\"{days[i]} {schedule[i]}\")\n",
    "\n",
    "# concatenates lists together\n",
    "for day, task in zip(days, schedule):\n",
    "    week_plan += f\"{day}: {task}\\n\"\n",
    "\n",
    "print (week_plan)\n"
   ]
  },
  {
   "cell_type": "markdown",
   "metadata": {},
   "source": [
    "## Indexing"
   ]
  },
  {
   "cell_type": "code",
   "execution_count": 43,
   "metadata": {},
   "outputs": [
    {
     "name": "stdout",
     "output_type": "stream",
     "text": [
      "quote[0]='!'\n",
      "quote[:6]='!False'\n",
      "quote[-4:]='true'\n",
      "Backwards: quote[::-1]=\"eurt s'ti esuaceb ynnuf s'ti - eslaF!\"\n",
      "Length of string: 37\n"
     ]
    }
   ],
   "source": [
    "quote = \"!False - it's funny because it's true\"\n",
    "\n",
    "\n",
    "print(f\"{quote[0]=}\")\n",
    "print(f\"{quote[:6]=}\")\n",
    "print(f\"{quote[-4:]=}\")\n",
    "\n",
    "print(f\"Backwards: {quote[::-1]=}\")\n",
    "\n",
    "print(f\"Length of string: {len(quote)}\")"
   ]
  },
  {
   "cell_type": "markdown",
   "metadata": {},
   "source": [
    "## Split strings"
   ]
  },
  {
   "cell_type": "code",
   "execution_count": 55,
   "metadata": {},
   "outputs": [
    {
     "data": {
      "text/plain": [
       "3.0"
      ]
     },
     "execution_count": 55,
     "metadata": {},
     "output_type": "execute_result"
    }
   ],
   "source": [
    "\n",
    "\n",
    "# not possible bcs string\n",
    "# numbers = float(input(\"Ange tre tal (separerade med kommatecken):\"))\n",
    "\n",
    "numbers = input(\"Ange tre tal (separerade med kommatecken):\")\n",
    "\n",
    "# 1. split the string into a list of 3 strings\n",
    "# 2. type convert each string into a float by iterating through the list\n",
    "\n",
    "# list comprehension\n",
    "numbers = [float(number) for number in numbers.split(\",\")]\n",
    "\n",
    "mean_value = sum(numbers)/len(numbers)\n",
    "mean_value"
   ]
  },
  {
   "cell_type": "code",
   "execution_count": 57,
   "metadata": {},
   "outputs": [
    {
     "name": "stdout",
     "output_type": "stream",
     "text": [
      "Help on method_descriptor:\n",
      "\n",
      "split(self, /, sep=None, maxsplit=-1)\n",
      "    Return a list of the words in the string, using sep as the delimiter string.\n",
      "    \n",
      "    sep\n",
      "      The delimiter according which to split the string.\n",
      "      None (the default value) means split according to any whitespace,\n",
      "      and discard empty strings from the result.\n",
      "    maxsplit\n",
      "      Maximum number of splits to do.\n",
      "      -1 (the default value) means no limit.\n",
      "\n"
     ]
    }
   ],
   "source": [
    "help(str.split)"
   ]
  },
  {
   "cell_type": "markdown",
   "metadata": {},
   "source": [
    "## Regular expression\n",
    "\n",
    " - find patterns in a string\n",
    " - e.g. phone numbers, email, capital letters, sequences..."
   ]
  },
  {
   "cell_type": "code",
   "execution_count": 73,
   "metadata": {},
   "outputs": [
    {
     "name": "stdout",
     "output_type": "stream",
     "text": [
      "['021-432512', '032-435667']\n",
      "['021-432512', '042-34256', '032-435667']\n",
      "['021-432512', '042-34256', '032-435667']\n",
      "['021-432512', '032-435667']\n"
     ]
    }
   ],
   "source": [
    "import re\n",
    "\n",
    "text = \"Mitt telefonnummer är 021-432512, \\\n",
    "    Adas nummer är 042-34256, Bedas nummer är: 032-435667\"\n",
    "\n",
    "# extract the numbers\n",
    "match1 = re.findall(r\"\\d\\d\\d-\\d\\d\\d\\d\\d\\d\", text) # r \"\" - raw string\n",
    "print(match1)\n",
    "\n",
    "match2 = re.findall(r\"\\d+\"\"-\"\"\\d+\", text)\n",
    "print(match2)\n",
    "\n",
    "match3 = re.findall(r\"\\d+-\\d+\", text)\n",
    "print(match3)\n",
    "\n",
    "match4 = re.findall(r\"\\d{3}-\\d{6}\", text)\n",
    "print(match4)"
   ]
  },
  {
   "cell_type": "code",
   "execution_count": 92,
   "metadata": {},
   "outputs": [
    {
     "name": "stdout",
     "output_type": "stream",
     "text": [
      "['hatt', 'matt', 'matt']\n"
     ]
    }
   ],
   "source": [
    "text = \"Det var en gång en katter, som tog sig på en hatt, och spelade schack, fick schackmatt med hjälp av skolmatt\"\n",
    "\n",
    "match = re.findall(r\".att\\b\", text)\n",
    "print(match)"
   ]
  }
 ],
 "metadata": {
  "kernelspec": {
   "display_name": "Python 3.9.13 ('Python-Thomas-Sjostrand-OL2KPN-d')",
   "language": "python",
   "name": "python3"
  },
  "language_info": {
   "codemirror_mode": {
    "name": "ipython",
    "version": 3
   },
   "file_extension": ".py",
   "mimetype": "text/x-python",
   "name": "python",
   "nbconvert_exporter": "python",
   "pygments_lexer": "ipython3",
   "version": "3.9.13"
  },
  "orig_nbformat": 4,
  "vscode": {
   "interpreter": {
    "hash": "224dd18f17edd8cc6836a1d8f63410afaf4159a79ee134f574d033aecb058169"
   }
  }
 },
 "nbformat": 4,
 "nbformat_minor": 2
}
