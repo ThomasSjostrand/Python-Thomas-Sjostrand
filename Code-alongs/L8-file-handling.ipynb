{
 "cells": [
  {
   "cell_type": "markdown",
   "metadata": {},
   "source": [
    "# File handling\n",
    "\n",
    "```py\n",
    "with open(path, option) as mane:\n",
    "    statements\n",
    "    ...\n",
    "```\n",
    "\n",
    "options\n",
    " - \"r\" - read\n",
    " - \"a\" - append to a file (if it doesn''t exist - it will create the file)\n",
    " - \"w\" - write (if it doesn''t exist - it will create the file)\n",
    " - \"x\" - create a file, error if it already exists"
   ]
  },
  {
   "cell_type": "code",
   "execution_count": 138,
   "metadata": {},
   "outputs": [
    {
     "data": {
      "text/plain": [
       "'  If     we     knew what it was      we were doing, it would not be called research,          would it?     - Albert Einstein\\n\\nTime is a drug. Too       much of it kills you.  -  Terry Pratchett\\n\\n\\n An expert is a person who       has made all the mistakes that           can be made in a          very narrow field - Niels Bohr\\n\\n   Everything must be made as simple as possible. But not simpler. - Albert Einstein     \\n\\n\\n  Nothing in life                is to be feared, it is only to be understood. Now is the time to understand more, so that we may fear less. - Marie  Curie  \\n\\nIf I have seen further     it is by standing on the shoulders of Giants. - Isaac Newton'"
      ]
     },
     "execution_count": 138,
     "metadata": {},
     "output_type": "execute_result"
    }
   ],
   "source": [
    "with open(\"../Data/quotes.txt\", \"r\") as f: # can instead use a variable (path = \"../Data/quotes.txt\")\n",
    "    text = f.read()\n",
    "\n",
    "text"
   ]
  },
  {
   "cell_type": "code",
   "execution_count": 139,
   "metadata": {},
   "outputs": [
    {
     "name": "stdout",
     "output_type": "stream",
     "text": [
      "  If     we     knew what it was      we were doing, it would not be called research,          would it?     - Albert Einstein\n",
      "\n",
      "Time is a drug. Too       much of it kills you.  -  Terry Pratchett\n",
      "\n",
      "\n",
      " An expert is a person who       has made all the mistakes that           can be made in a          very narrow field - Niels Bohr\n",
      "\n",
      "   Everything must be made as simple as possible. But not simpler. - Albert Einstein     \n",
      "\n",
      "\n",
      "  Nothing in life                is to be feared, it is only to be understood. Now is the time to understand more, so that we may fear less. - Marie  Curie  \n",
      "\n",
      "If I have seen further     it is by standing on the shoulders of Giants. - Isaac Newton\n"
     ]
    }
   ],
   "source": [
    "print(text) # when we print \\n we get new lines (was raw before) "
   ]
  },
  {
   "cell_type": "markdown",
   "metadata": {},
   "source": [
    "\"\" Cleaning up quotes.txt\n",
    "\n",
    " - inspect txt-file manually (some prankster has added noise in form of whitespace and new lines)\n",
    " - remove leading and trailing whitespaces\n",
    " - remove excessive white spaces in between words\n",
    " - add quote numbers"
   ]
  },
  {
   "cell_type": "code",
   "execution_count": 140,
   "metadata": {},
   "outputs": [
    {
     "name": "stdout",
     "output_type": "stream",
     "text": [
      "  If     we     knew what it was      we were doing, it would not be called research,          would it?     - Albert Einstein\n",
      "\n",
      "\n",
      "\n",
      "Time is a drug. Too       much of it kills you.  -  Terry Pratchett\n",
      "\n",
      "\n",
      "\n",
      "\n",
      "\n",
      " An expert is a person who       has made all the mistakes that           can be made in a          very narrow field - Niels Bohr\n",
      "\n",
      "\n",
      "\n",
      "   Everything must be made as simple as possible. But not simpler. - Albert Einstein     \n",
      "\n",
      "\n",
      "\n",
      "\n",
      "\n",
      "  Nothing in life                is to be feared, it is only to be understood. Now is the time to understand more, so that we may fear less. - Marie  Curie  \n",
      "\n",
      "\n",
      "\n",
      "If I have seen further     it is by standing on the shoulders of Giants. - Isaac Newton\n"
     ]
    }
   ],
   "source": [
    "path = \"../Data/quotes.txt\"\n",
    "with open(path, \"r\") as f_read, open(\"../Data/quotes_clean.txt\", \"w\") as f_write:\n",
    "\n",
    "    for quote in f_read: # reads line by line and ends it with a new line\n",
    "        print(quote)\n"
   ]
  },
  {
   "cell_type": "code",
   "execution_count": 141,
   "metadata": {},
   "outputs": [
    {
     "name": "stdout",
     "output_type": "stream",
     "text": [
      "  If     we     knew what it was      we were doing, it would not be called research,          would it?     - Albert Einstein\n",
      "\n",
      "Time is a drug. Too       much of it kills you.  -  Terry Pratchett\n",
      "\n",
      "\n",
      " An expert is a person who       has made all the mistakes that           can be made in a          very narrow field - Niels Bohr\n",
      "\n",
      "   Everything must be made as simple as possible. But not simpler. - Albert Einstein     \n",
      "\n",
      "\n",
      "  Nothing in life                is to be feared, it is only to be understood. Now is the time to understand more, so that we may fear less. - Marie  Curie  \n",
      "\n",
      "If I have seen further     it is by standing on the shoulders of Giants. - Isaac Newton"
     ]
    }
   ],
   "source": [
    "with open(path, \"r\") as f_read, open(\"../Data/quotes_clean.txt\", \"w\") as f_write:\n",
    "    for quote in f_read: # reads line by line and ends it with a new line\n",
    "        print(quote, end=\"\") # ends every line with nothing instead of a new line"
   ]
  },
  {
   "cell_type": "code",
   "execution_count": 142,
   "metadata": {},
   "outputs": [
    {
     "name": "stdout",
     "output_type": "stream",
     "text": [
      "'If we knew what it was we were doing, it would not be called research, would it? - Albert Einstein'\n",
      "'Time is a drug. Too much of it kills you. - Terry Pratchett'\n",
      "'An expert is a person who has made all the mistakes that can be made in a very narrow field - Niels Bohr'\n",
      "'Everything must be made as simple as possible. But not simpler. - Albert Einstein'\n",
      "'Nothing in life is to be feared, it is only to be understood. Now is the time to understand more, so that we may fear less. - Marie Curie'\n",
      "'If I have seen further it is by standing on the shoulders of Giants. - Isaac Newton'\n",
      "1. If we knew what it was we were doing, it would not be called research, would it? - Albert Einstein\n",
      "2. Time is a drug. Too much of it kills you. - Terry Pratchett\n",
      "3. An expert is a person who has made all the mistakes that can be made in a very narrow field - Niels Bohr\n",
      "4. Everything must be made as simple as possible. But not simpler. - Albert Einstein\n",
      "5. Nothing in life is to be feared, it is only to be understood. Now is the time to understand more, so that we may fear less. - Marie Curie\n",
      "6. If I have seen further it is by standing on the shoulders of Giants. - Isaac Newton\n",
      "\n"
     ]
    }
   ],
   "source": [
    "import re\n",
    "\n",
    "with open(path, \"r\") as f_read, open(\"../Data/quotes_clean.txt\", \"w\") as f_write:\n",
    "\n",
    "    i=1\n",
    "\n",
    "    for quote in f_read: # quote is a string, splits by newline\n",
    "        quote = quote.strip() # Remove spaces at the beginning and at the end of the string:\n",
    "        quote = re.sub(\" +\", \" \",quote) # read up on regular expression! regex to substitute >1 whitespace with 1 whitespace\n",
    "        quote = re.sub(\"\\n+\", \"\\n\",quote) # does not work since the newlines in not in the strings\n",
    "        \n",
    "        if quote != \"\":\n",
    "            f_write.write(f\"{i}. {quote}\\n\")\n",
    "            i += 1\n",
    "\n",
    "        if quote != \"\": # quote with only new lines were replaced with \"\"\n",
    "            print(repr(quote)) # representation\n",
    "\n",
    "with open(\"../Data/quotes_clean.txt\", \"r\") as g: # can instead use a variable (path = \"../Data/quotes.txt\")\n",
    "    text2 = g.read()\n",
    "print(text2)"
   ]
  },
  {
   "cell_type": "markdown",
   "metadata": {},
   "source": [
    "## Pick out the authors\n",
    "\n",
    " - find digit to find quote\n",
    " - extract first name and last name\n",
    " - join into full name\n",
    " - get unique values"
   ]
  },
  {
   "cell_type": "code",
   "execution_count": 143,
   "metadata": {},
   "outputs": [
    {
     "name": "stdout",
     "output_type": "stream",
     "text": [
      "[['Albert', 'Einstein'], ['Terry', 'Pratchett'], ['Niels', 'Bohr'], ['Albert', 'Einstein'], ['Marie', 'Curie'], ['Isaac', 'Newton']]\n"
     ]
    }
   ],
   "source": [
    "with open(\"../Data/quotes_clean.txt\", \"r\") as h_read, open(\"../Data/quotes_authors.txt\", \"w\") as h_write:\n",
    "    \n",
    "    #creates a list line by line\n",
    "    # strips away \"\\n\"\n",
    "    quotes = [quote.strip(\"\\n\") for quote in h_read.readlines()]\n",
    "\n",
    "    authors = [quote.split()[-2:] for quote in quotes] # splits at \" \" as default\n",
    "\n",
    "    # print(quotes)\n",
    "    print(authors)"
   ]
  },
  {
   "cell_type": "code",
   "execution_count": 144,
   "metadata": {},
   "outputs": [
    {
     "data": {
      "text/plain": [
       "'Thomas Sjöstrand ko'"
      ]
     },
     "execution_count": 144,
     "metadata": {},
     "output_type": "execute_result"
    }
   ],
   "source": [
    "name = [[\"Thomas\", \"Sjöstrand\", \"ko\"]]\n",
    "\n",
    "# joins all lists in list[0] separated with \" \" - This is a string method\n",
    "\" \".join(name[0])"
   ]
  },
  {
   "cell_type": "code",
   "execution_count": 145,
   "metadata": {},
   "outputs": [
    {
     "name": "stdout",
     "output_type": "stream",
     "text": [
      "[['Albert', 'Einstein'], ['Terry', 'Pratchett'], ['Niels', 'Bohr'], ['Albert', 'Einstein'], ['Marie', 'Curie'], ['Isaac', 'Newton']]\n",
      "{'Niels Bohr', 'Isaac Newton', 'Albert Einstein', 'Marie Curie', 'Terry Pratchett'}\n"
     ]
    }
   ],
   "source": [
    "with open(\"../Data/quotes_clean.txt\", \"r\") as h_read, open(\"../Data/quotes_authors.txt\", \"w\") as h_write, open(\"../Data/quotes_clean.txt\", \"a\") as h_append:\n",
    "    \n",
    "    #creates a list line by line\n",
    "    # strips away \"\\n\"\n",
    "    quotes = [quote.strip(\"\\n\") for quote in h_read.readlines()]\n",
    "\n",
    "    # splits at \" \" as default\n",
    "    # splits out everything after the second last element (-2)\n",
    "    authors = [quote.split()[-2:] for quote in quotes] \n",
    "    print(authors)\n",
    "\n",
    "    # joins all nested lists into one list\n",
    "    # set (mägnd) gives the unique elements\n",
    "    authors = set([\" \".join(i) for i in authors])\n",
    "    print(authors)\n",
    "\n",
    "    h_write.write(\"\\nAuthors: \")\n",
    "    for i in authors:\n",
    "        h_write.write(f\"{i}, \")\n",
    "\n",
    "    h_append.write(\"\\nAuthors: \")\n",
    "    for i in authors:\n",
    "        h_append.write(f\"{i}, \")"
   ]
  }
 ],
 "metadata": {
  "kernelspec": {
   "display_name": "Python 3.9.13 ('Python-Thomas-Sjostrand-OL2KPN-d')",
   "language": "python",
   "name": "python3"
  },
  "language_info": {
   "codemirror_mode": {
    "name": "ipython",
    "version": 3
   },
   "file_extension": ".py",
   "mimetype": "text/x-python",
   "name": "python",
   "nbconvert_exporter": "python",
   "pygments_lexer": "ipython3",
   "version": "3.9.13"
  },
  "orig_nbformat": 4,
  "vscode": {
   "interpreter": {
    "hash": "224dd18f17edd8cc6836a1d8f63410afaf4159a79ee134f574d033aecb058169"
   }
  }
 },
 "nbformat": 4,
 "nbformat_minor": 2
}
