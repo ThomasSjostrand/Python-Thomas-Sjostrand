{
 "cells": [
  {
   "cell_type": "markdown",
   "metadata": {},
   "source": [
    "# Functions"
   ]
  },
  {
   "cell_type": "code",
   "execution_count": 9,
   "metadata": {},
   "outputs": [
    {
     "name": "stdout",
     "output_type": "stream",
     "text": [
      "cuber(4)=64\n"
     ]
    },
    {
     "data": {
      "text/plain": [
       "[0, 1, 8, 27, 64, 125, 216, 343, 512, 729]"
      ]
     },
     "execution_count": 9,
     "metadata": {},
     "output_type": "execute_result"
    }
   ],
   "source": [
    "# define a function called cuber, it takes in 1 parameter\n",
    "def cuber(x):\n",
    "    return x**3\n",
    "\n",
    "# call the function cuber using 1 argument\n",
    "print(f\"{cuber(4)=}\")\n",
    "\n",
    "cubes = [cuber(i) for i in range(10)]\n",
    "cubes"
   ]
  },
  {
   "cell_type": "code",
   "execution_count": 11,
   "metadata": {},
   "outputs": [
    {
     "data": {
      "image/png": "[encoded data removed]",
      "text/plain": [
       "<Figure size 640x480 with 1 Axes>"
      ]
     },
     "metadata": {},
     "output_type": "display_data"
    }
   ],
   "source": [
    "import matplotlib.pyplot as plt\n",
    "\n",
    "plt.plot(cubes);"
   ]
  },
  {
   "cell_type": "code",
   "execution_count": 35,
   "metadata": {},
   "outputs": [
    {
     "name": "stdout",
     "output_type": "stream",
     "text": [
      "number1=1, number2=3, number3=7\n",
      "number1=5, number2=10, number3=15\n",
      "20.0\n"
     ]
    }
   ],
   "source": [
    "# several parameters\n",
    "def my_mean(number1, number2, number3): # 3 parameters\n",
    "    print(f\"{number1=}, {number2=}, {number3=}\")\n",
    "    return (number1 + number2 + number3)/3 # returnar en float pga division, skulle varit float annars\n",
    "  \n",
    "my_mean(1,3,7) # 3 arguments\n",
    "\n",
    "double_mean = my_mean(5,10,15)*2\n",
    "print(double_mean)"
   ]
  },
  {
   "cell_type": "markdown",
   "metadata": {},
   "source": [
    "## Default values"
   ]
  },
  {
   "cell_type": "code",
   "execution_count": 46,
   "metadata": {},
   "outputs": [
    {
     "name": "stdout",
     "output_type": "stream",
     "text": [
      "Hej Thomas, du är 40 år\n",
      "Hej Thomas, du är 40 år\n",
      "Hej Berit, du är 0 år\n",
      "Hej Berit, du är 0 år\n",
      "Hej Berit, du är 0 år\n",
      "Ange en ålder >= 0\n",
      "Hej buddy, du är 2 år\n",
      "Hej buddy, du är 23 år\n"
     ]
    }
   ],
   "source": [
    "def hello(number_of_greetings, name = \"buddy\", age = 0): # 1 argument required, 2 optional\n",
    "    for i in range(number_of_greetings):\n",
    "        if float(age) < 0:\n",
    "            print(\"Ange en ålder >= 0\")\n",
    "            return # returnerar inget och avslutar functionen\n",
    "\n",
    "        print(f\"Hej {name}, du är {age} år\")\n",
    "        # note no return -> void function\n",
    "\n",
    "hello(2, \"Thomas\", 40)\n",
    "hello(3, \"Berit\")\n",
    "hello(1, 1, -3)\n",
    "hello(1, age =2 ) # using only chosen arguments\n",
    "\n",
    "# 1 is positional argument, age is keyword argument\n",
    "hello(1, age = 23) # have to call positional before ketwords\n"
   ]
  },
  {
   "cell_type": "code",
   "execution_count": 58,
   "metadata": {},
   "outputs": [
    {
     "name": "stdout",
     "output_type": "stream",
     "text": [
      "2\n"
     ]
    },
    {
     "data": {
      "text/plain": [
       "3"
      ]
     },
     "execution_count": 58,
     "metadata": {},
     "output_type": "execute_result"
    }
   ],
   "source": [
    "def word_counter(text = \"\"):\n",
    "    word_list = text.split()\n",
    "    return len(word_list)\n",
    "\n",
    "print(word_counter(\"Hallå eller!\"))\n",
    "\n",
    "quote = \"I like coke\"\n",
    "quote_length = word_counter(quote)\n",
    "quote_length"
   ]
  },
  {
   "cell_type": "markdown",
   "metadata": {},
   "source": [
    "## Arbitrary arguments - *args"
   ]
  },
  {
   "cell_type": "code",
   "execution_count": 3,
   "metadata": {},
   "outputs": [
    {
     "name": "stdout",
     "output_type": "stream",
     "text": [
      "3.0\n"
     ]
    }
   ],
   "source": [
    "def my_mean2(*numbers):\n",
    "    total = 0\n",
    "    for i in numbers:\n",
    "        total += i\n",
    "    return(total / len(numbers))\n",
    "\n",
    "series1 = my_mean2(1, 3, 5)\n",
    "print(series1)\n",
    "\n"
   ]
  },
  {
   "cell_type": "markdown",
   "metadata": {},
   "source": [
    "# Arbitrary keyword arguments **kwargs\n",
    " - undefined number of keyword arguments\n",
    " - the function will receive a dictionary of arguments, and can access the items accordingly"
   ]
  },
  {
   "cell_type": "code",
   "execution_count": null,
   "metadata": {},
   "outputs": [],
   "source": [
    "# learn it yourself"
   ]
  },
  {
   "cell_type": "markdown",
   "metadata": {},
   "source": [
    "## Lambda\n",
    "\n",
    " - anonymous function\n",
    " - can for example be used as an argument to other functions"
   ]
  },
  {
   "cell_type": "code",
   "execution_count": 4,
   "metadata": {},
   "outputs": [
    {
     "data": {
      "text/plain": [
       "8"
      ]
     },
     "execution_count": 4,
     "metadata": {},
     "output_type": "execute_result"
    }
   ],
   "source": [
    "cuber = lambda x: x**3\n",
    "\n",
    "cuber(2)"
   ]
  },
  {
   "cell_type": "markdown",
   "metadata": {},
   "source": [
    "## Draw lines"
   ]
  },
  {
   "cell_type": "code",
   "execution_count": 27,
   "metadata": {},
   "outputs": [
    {
     "data": {
      "image/png": "[encoded data removed]",
      "text/plain": [
       "<Figure size 640x480 with 1 Axes>"
      ]
     },
     "metadata": {},
     "output_type": "display_data"
    }
   ],
   "source": [
    "from re import M\n",
    "import matplotlib.pyplot as plt\n",
    "\n",
    "def draw_lines(x_list, k=1, m=1, title = \"\"):\n",
    "    y_list = [k*x+m for x in x_list]\n",
    "\n",
    "    plt.plot(x_list, y_list)\n",
    "    plt.xlabel(\"x\")\n",
    "    plt.ylabel(\"y\")\n",
    "    plt.title(title)\n",
    "\n",
    "x = list(range(-10, 10))\n",
    "draw_lines(x, title=\"Linear graph\")\n",
    "draw_lines(x, k=-2, m=5, title=\"Linear graph\")\n",
    "\n",
    "# TODO find intersection point and plot it\n",
    "\n",
    "# y = kx + m\n",
    "# x +1 == -2x +5\n",
    "# 3x == 4\n",
    "# x == 4/3\n",
    "# y == 1*4/3 + 1\n",
    "# y == 7/3\n",
    "\n",
    "plt.plot(4/3, 7/3, 'o-');"
   ]
  }
 ],
 "metadata": {
  "kernelspec": {
   "display_name": "Python 3.9.13 ('Python-Thomas-Sjostrand-OL2KPN-d')",
   "language": "python",
   "name": "python3"
  },
  "language_info": {
   "codemirror_mode": {
    "name": "ipython",
    "version": 3
   },
   "file_extension": ".py",
   "mimetype": "text/x-python",
   "name": "python",
   "nbconvert_exporter": "python",
   "pygments_lexer": "ipython3",
   "version": "3.9.13"
  },
  "orig_nbformat": 4,
  "vscode": {
   "interpreter": {
    "hash": "224dd18f17edd8cc6836a1d8f63410afaf4159a79ee134f574d033aecb058169"
   }
  }
 },
 "nbformat": 4,
 "nbformat_minor": 2
}
